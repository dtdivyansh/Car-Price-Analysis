{
 "cells": [
  {
   "cell_type": "markdown",
   "metadata": {},
   "source": [
    "# *Assignmenet 1*"
   ]
  },
  {
   "cell_type": "markdown",
   "metadata": {},
   "source": [
    "## Importing Libararies and Datasets"
   ]
  },
  {
   "cell_type": "code",
   "execution_count": 1,
   "metadata": {
    "scrolled": true
   },
   "outputs": [],
   "source": [
    "import pandas as pd\n",
    "import numpy as np\n",
    "import seaborn as sns\n",
    "import matplotlib.pyplot as plt\n",
    "from matplotlib import style\n",
    "style.use('dark_background')\n",
    "import matplotlib as mlt"
   ]
  },
  {
   "cell_type": "code",
   "execution_count": 2,
   "metadata": {
    "scrolled": true
   },
   "outputs": [],
   "source": [
    "# IMPORT DATASET\n",
    "\n",
    "cars = pd.read_csv(r'D:\\Machine Learning\\data\\cars_price.csv')"
   ]
  },
  {
   "cell_type": "code",
   "execution_count": 3,
   "metadata": {
    "scrolled": true
   },
   "outputs": [
    {
     "name": "stdout",
     "output_type": "stream",
     "text": [
      "(40000, 13)\n"
     ]
    },
    {
     "data": {
      "text/html": [
       "<div>\n",
       "<style scoped>\n",
       "    .dataframe tbody tr th:only-of-type {\n",
       "        vertical-align: middle;\n",
       "    }\n",
       "\n",
       "    .dataframe tbody tr th {\n",
       "        vertical-align: top;\n",
       "    }\n",
       "\n",
       "    .dataframe thead th {\n",
       "        text-align: right;\n",
       "    }\n",
       "</style>\n",
       "<table border=\"1\" class=\"dataframe\">\n",
       "  <thead>\n",
       "    <tr style=\"text-align: right;\">\n",
       "      <th></th>\n",
       "      <th>Unnamed: 0</th>\n",
       "      <th>make</th>\n",
       "      <th>model</th>\n",
       "      <th>priceUSD</th>\n",
       "      <th>year</th>\n",
       "      <th>condition</th>\n",
       "      <th>mileage(kilometers)</th>\n",
       "      <th>fuel_type</th>\n",
       "      <th>volume(cm3)</th>\n",
       "      <th>color</th>\n",
       "      <th>transmission</th>\n",
       "      <th>drive_unit</th>\n",
       "      <th>segment</th>\n",
       "    </tr>\n",
       "  </thead>\n",
       "  <tbody>\n",
       "    <tr>\n",
       "      <th>0</th>\n",
       "      <td>0</td>\n",
       "      <td>honda</td>\n",
       "      <td>accord</td>\n",
       "      <td>565</td>\n",
       "      <td>1993</td>\n",
       "      <td>with mileage</td>\n",
       "      <td>960015.0</td>\n",
       "      <td>petrol</td>\n",
       "      <td>2000.0</td>\n",
       "      <td>black</td>\n",
       "      <td>mechanics</td>\n",
       "      <td>front-wheel drive</td>\n",
       "      <td>D</td>\n",
       "    </tr>\n",
       "    <tr>\n",
       "      <th>1</th>\n",
       "      <td>1</td>\n",
       "      <td>ford</td>\n",
       "      <td>fusion</td>\n",
       "      <td>5550</td>\n",
       "      <td>2008</td>\n",
       "      <td>with mileage</td>\n",
       "      <td>172000.0</td>\n",
       "      <td>diesel</td>\n",
       "      <td>1400.0</td>\n",
       "      <td>silver</td>\n",
       "      <td>mechanics</td>\n",
       "      <td>front-wheel drive</td>\n",
       "      <td>M</td>\n",
       "    </tr>\n",
       "    <tr>\n",
       "      <th>2</th>\n",
       "      <td>2</td>\n",
       "      <td>nissan</td>\n",
       "      <td>teana</td>\n",
       "      <td>8300</td>\n",
       "      <td>2008</td>\n",
       "      <td>with mileage</td>\n",
       "      <td>223000.0</td>\n",
       "      <td>petrol</td>\n",
       "      <td>2500.0</td>\n",
       "      <td>purple</td>\n",
       "      <td>auto</td>\n",
       "      <td>front-wheel drive</td>\n",
       "      <td>D</td>\n",
       "    </tr>\n",
       "    <tr>\n",
       "      <th>3</th>\n",
       "      <td>3</td>\n",
       "      <td>volkswagen</td>\n",
       "      <td>fox</td>\n",
       "      <td>3300</td>\n",
       "      <td>2005</td>\n",
       "      <td>with mileage</td>\n",
       "      <td>140000.0</td>\n",
       "      <td>petrol</td>\n",
       "      <td>1200.0</td>\n",
       "      <td>blue</td>\n",
       "      <td>mechanics</td>\n",
       "      <td>front-wheel drive</td>\n",
       "      <td>A</td>\n",
       "    </tr>\n",
       "    <tr>\n",
       "      <th>4</th>\n",
       "      <td>4</td>\n",
       "      <td>nissan</td>\n",
       "      <td>primera</td>\n",
       "      <td>2450</td>\n",
       "      <td>2002</td>\n",
       "      <td>with damage</td>\n",
       "      <td>413000.0</td>\n",
       "      <td>diesel</td>\n",
       "      <td>2200.0</td>\n",
       "      <td>burgundy</td>\n",
       "      <td>mechanics</td>\n",
       "      <td>front-wheel drive</td>\n",
       "      <td>D</td>\n",
       "    </tr>\n",
       "  </tbody>\n",
       "</table>\n",
       "</div>"
      ],
      "text/plain": [
       "   Unnamed: 0        make    model  priceUSD  year     condition  \\\n",
       "0           0       honda   accord       565  1993  with mileage   \n",
       "1           1        ford   fusion      5550  2008  with mileage   \n",
       "2           2      nissan    teana      8300  2008  with mileage   \n",
       "3           3  volkswagen      fox      3300  2005  with mileage   \n",
       "4           4      nissan  primera      2450  2002   with damage   \n",
       "\n",
       "   mileage(kilometers) fuel_type  volume(cm3)     color transmission  \\\n",
       "0             960015.0    petrol       2000.0     black    mechanics   \n",
       "1             172000.0    diesel       1400.0    silver    mechanics   \n",
       "2             223000.0    petrol       2500.0    purple         auto   \n",
       "3             140000.0    petrol       1200.0      blue    mechanics   \n",
       "4             413000.0    diesel       2200.0  burgundy    mechanics   \n",
       "\n",
       "          drive_unit segment  \n",
       "0  front-wheel drive       D  \n",
       "1  front-wheel drive       M  \n",
       "2  front-wheel drive       D  \n",
       "3  front-wheel drive       A  \n",
       "4  front-wheel drive       D  "
      ]
     },
     "execution_count": 3,
     "metadata": {},
     "output_type": "execute_result"
    }
   ],
   "source": [
    "print(cars.shape)\n",
    "cars.head()"
   ]
  },
  {
   "cell_type": "markdown",
   "metadata": {},
   "source": [
    "## Data Cleaning"
   ]
  },
  {
   "cell_type": "code",
   "execution_count": 4,
   "metadata": {
    "scrolled": true
   },
   "outputs": [
    {
     "data": {
      "text/plain": [
       "Unnamed: 0                0\n",
       "make                      0\n",
       "model                     0\n",
       "priceUSD                  0\n",
       "year                      0\n",
       "condition                 0\n",
       "mileage(kilometers)       0\n",
       "fuel_type                 0\n",
       "volume(cm3)              30\n",
       "color                     0\n",
       "transmission              0\n",
       "drive_unit             1345\n",
       "segment                3755\n",
       "dtype: int64"
      ]
     },
     "execution_count": 4,
     "metadata": {},
     "output_type": "execute_result"
    }
   ],
   "source": [
    "#COUNTING NULL VALUES IN EACH COLUMN\n",
    "\n",
    "nanVal = pd.isnull(cars)\n",
    "\n",
    "nanVal.sum()"
   ]
  },
  {
   "cell_type": "markdown",
   "metadata": {},
   "source": [
    "\" Clearly we had some NULL values in Volume, drive_unit and segment \""
   ]
  },
  {
   "cell_type": "code",
   "execution_count": 5,
   "metadata": {
    "scrolled": true
   },
   "outputs": [
    {
     "data": {
      "text/plain": [
       "Index(['Unnamed: 0', 'make', 'model', 'priceUSD', 'year', 'condition',\n",
       "       'mileage(kilometers)', 'fuel_type', 'volume(cm3)', 'color',\n",
       "       'transmission', 'drive_unit', 'segment'],\n",
       "      dtype='object')"
      ]
     },
     "execution_count": 5,
     "metadata": {},
     "output_type": "execute_result"
    }
   ],
   "source": [
    "cars.columns"
   ]
  },
  {
   "cell_type": "code",
   "execution_count": 6,
   "metadata": {
    "scrolled": true
   },
   "outputs": [
    {
     "data": {
      "text/html": [
       "<div>\n",
       "<style scoped>\n",
       "    .dataframe tbody tr th:only-of-type {\n",
       "        vertical-align: middle;\n",
       "    }\n",
       "\n",
       "    .dataframe tbody tr th {\n",
       "        vertical-align: top;\n",
       "    }\n",
       "\n",
       "    .dataframe thead th {\n",
       "        text-align: right;\n",
       "    }\n",
       "</style>\n",
       "<table border=\"1\" class=\"dataframe\">\n",
       "  <thead>\n",
       "    <tr style=\"text-align: right;\">\n",
       "      <th></th>\n",
       "      <th>make</th>\n",
       "      <th>model</th>\n",
       "      <th>year</th>\n",
       "      <th>condition</th>\n",
       "      <th>mileage(kilometers)</th>\n",
       "      <th>fuel_type</th>\n",
       "      <th>volume(cm3)</th>\n",
       "      <th>color</th>\n",
       "      <th>transmission</th>\n",
       "      <th>drive_unit</th>\n",
       "      <th>segment</th>\n",
       "      <th>price</th>\n",
       "    </tr>\n",
       "  </thead>\n",
       "  <tbody>\n",
       "    <tr>\n",
       "      <th>0</th>\n",
       "      <td>honda</td>\n",
       "      <td>accord</td>\n",
       "      <td>1993</td>\n",
       "      <td>with mileage</td>\n",
       "      <td>960015.0</td>\n",
       "      <td>petrol</td>\n",
       "      <td>2000.0</td>\n",
       "      <td>black</td>\n",
       "      <td>mechanics</td>\n",
       "      <td>front-wheel drive</td>\n",
       "      <td>D</td>\n",
       "      <td>565</td>\n",
       "    </tr>\n",
       "    <tr>\n",
       "      <th>1</th>\n",
       "      <td>ford</td>\n",
       "      <td>fusion</td>\n",
       "      <td>2008</td>\n",
       "      <td>with mileage</td>\n",
       "      <td>172000.0</td>\n",
       "      <td>diesel</td>\n",
       "      <td>1400.0</td>\n",
       "      <td>silver</td>\n",
       "      <td>mechanics</td>\n",
       "      <td>front-wheel drive</td>\n",
       "      <td>M</td>\n",
       "      <td>5550</td>\n",
       "    </tr>\n",
       "    <tr>\n",
       "      <th>2</th>\n",
       "      <td>nissan</td>\n",
       "      <td>teana</td>\n",
       "      <td>2008</td>\n",
       "      <td>with mileage</td>\n",
       "      <td>223000.0</td>\n",
       "      <td>petrol</td>\n",
       "      <td>2500.0</td>\n",
       "      <td>purple</td>\n",
       "      <td>auto</td>\n",
       "      <td>front-wheel drive</td>\n",
       "      <td>D</td>\n",
       "      <td>8300</td>\n",
       "    </tr>\n",
       "    <tr>\n",
       "      <th>3</th>\n",
       "      <td>volkswagen</td>\n",
       "      <td>fox</td>\n",
       "      <td>2005</td>\n",
       "      <td>with mileage</td>\n",
       "      <td>140000.0</td>\n",
       "      <td>petrol</td>\n",
       "      <td>1200.0</td>\n",
       "      <td>blue</td>\n",
       "      <td>mechanics</td>\n",
       "      <td>front-wheel drive</td>\n",
       "      <td>A</td>\n",
       "      <td>3300</td>\n",
       "    </tr>\n",
       "    <tr>\n",
       "      <th>4</th>\n",
       "      <td>nissan</td>\n",
       "      <td>primera</td>\n",
       "      <td>2002</td>\n",
       "      <td>with damage</td>\n",
       "      <td>413000.0</td>\n",
       "      <td>diesel</td>\n",
       "      <td>2200.0</td>\n",
       "      <td>burgundy</td>\n",
       "      <td>mechanics</td>\n",
       "      <td>front-wheel drive</td>\n",
       "      <td>D</td>\n",
       "      <td>2450</td>\n",
       "    </tr>\n",
       "  </tbody>\n",
       "</table>\n",
       "</div>"
      ],
      "text/plain": [
       "         make    model  year     condition  mileage(kilometers) fuel_type  \\\n",
       "0       honda   accord  1993  with mileage             960015.0    petrol   \n",
       "1        ford   fusion  2008  with mileage             172000.0    diesel   \n",
       "2      nissan    teana  2008  with mileage             223000.0    petrol   \n",
       "3  volkswagen      fox  2005  with mileage             140000.0    petrol   \n",
       "4      nissan  primera  2002   with damage             413000.0    diesel   \n",
       "\n",
       "   volume(cm3)     color transmission         drive_unit segment  price  \n",
       "0       2000.0     black    mechanics  front-wheel drive       D    565  \n",
       "1       1400.0    silver    mechanics  front-wheel drive       M   5550  \n",
       "2       2500.0    purple         auto  front-wheel drive       D   8300  \n",
       "3       1200.0      blue    mechanics  front-wheel drive       A   3300  \n",
       "4       2200.0  burgundy    mechanics  front-wheel drive       D   2450  "
      ]
     },
     "execution_count": 6,
     "metadata": {},
     "output_type": "execute_result"
    }
   ],
   "source": [
    "# Putting PriceUSD column at last for convenience \n",
    "\n",
    "df1 = cars.pop('priceUSD')\n",
    "cars['price'] = df1\n",
    "\n",
    "# DROPPING FIRST COLUMN AS IT IS UNNECESSARY \n",
    "cars.pop('Unnamed: 0')\n",
    "cars.head()"
   ]
  },
  {
   "cell_type": "code",
   "execution_count": 7,
   "metadata": {
    "scrolled": true
   },
   "outputs": [
    {
     "data": {
      "text/html": [
       "<div>\n",
       "<style scoped>\n",
       "    .dataframe tbody tr th:only-of-type {\n",
       "        vertical-align: middle;\n",
       "    }\n",
       "\n",
       "    .dataframe tbody tr th {\n",
       "        vertical-align: top;\n",
       "    }\n",
       "\n",
       "    .dataframe thead th {\n",
       "        text-align: right;\n",
       "    }\n",
       "</style>\n",
       "<table border=\"1\" class=\"dataframe\">\n",
       "  <thead>\n",
       "    <tr style=\"text-align: right;\">\n",
       "      <th></th>\n",
       "      <th>year</th>\n",
       "      <th>mileage(kilometers)</th>\n",
       "      <th>volume(cm3)</th>\n",
       "      <th>price</th>\n",
       "    </tr>\n",
       "  </thead>\n",
       "  <tbody>\n",
       "    <tr>\n",
       "      <th>count</th>\n",
       "      <td>40000.000000</td>\n",
       "      <td>4.000000e+04</td>\n",
       "      <td>39970.000000</td>\n",
       "      <td>40000.000000</td>\n",
       "    </tr>\n",
       "    <tr>\n",
       "      <th>mean</th>\n",
       "      <td>2003.485625</td>\n",
       "      <td>2.434332e+05</td>\n",
       "      <td>2103.201676</td>\n",
       "      <td>7430.383775</td>\n",
       "    </tr>\n",
       "    <tr>\n",
       "      <th>std</th>\n",
       "      <td>8.114896</td>\n",
       "      <td>3.167033e+05</td>\n",
       "      <td>938.724653</td>\n",
       "      <td>8338.242134</td>\n",
       "    </tr>\n",
       "    <tr>\n",
       "      <th>min</th>\n",
       "      <td>1938.000000</td>\n",
       "      <td>0.000000e+00</td>\n",
       "      <td>500.000000</td>\n",
       "      <td>95.000000</td>\n",
       "    </tr>\n",
       "    <tr>\n",
       "      <th>25%</th>\n",
       "      <td>1998.000000</td>\n",
       "      <td>1.370000e+05</td>\n",
       "      <td>1600.000000</td>\n",
       "      <td>2350.000000</td>\n",
       "    </tr>\n",
       "    <tr>\n",
       "      <th>50%</th>\n",
       "      <td>2004.000000</td>\n",
       "      <td>2.280000e+05</td>\n",
       "      <td>1995.000000</td>\n",
       "      <td>5350.000000</td>\n",
       "    </tr>\n",
       "    <tr>\n",
       "      <th>75%</th>\n",
       "      <td>2010.000000</td>\n",
       "      <td>3.087610e+05</td>\n",
       "      <td>2300.000000</td>\n",
       "      <td>9850.000000</td>\n",
       "    </tr>\n",
       "    <tr>\n",
       "      <th>max</th>\n",
       "      <td>2019.000000</td>\n",
       "      <td>9.999999e+06</td>\n",
       "      <td>20000.000000</td>\n",
       "      <td>195000.000000</td>\n",
       "    </tr>\n",
       "  </tbody>\n",
       "</table>\n",
       "</div>"
      ],
      "text/plain": [
       "               year  mileage(kilometers)   volume(cm3)          price\n",
       "count  40000.000000         4.000000e+04  39970.000000   40000.000000\n",
       "mean    2003.485625         2.434332e+05   2103.201676    7430.383775\n",
       "std        8.114896         3.167033e+05    938.724653    8338.242134\n",
       "min     1938.000000         0.000000e+00    500.000000      95.000000\n",
       "25%     1998.000000         1.370000e+05   1600.000000    2350.000000\n",
       "50%     2004.000000         2.280000e+05   1995.000000    5350.000000\n",
       "75%     2010.000000         3.087610e+05   2300.000000    9850.000000\n",
       "max     2019.000000         9.999999e+06  20000.000000  195000.000000"
      ]
     },
     "execution_count": 7,
     "metadata": {},
     "output_type": "execute_result"
    }
   ],
   "source": [
    "cars.describe()"
   ]
  },
  {
   "cell_type": "markdown",
   "metadata": {},
   "source": [
    "Average price is 7430.40 dollars here"
   ]
  },
  {
   "cell_type": "markdown",
   "metadata": {},
   "source": [
    "### Now let's fill the Null Values wherever needed"
   ]
  },
  {
   "cell_type": "code",
   "execution_count": 8,
   "metadata": {
    "scrolled": true
   },
   "outputs": [
    {
     "data": {
      "text/plain": [
       "front-wheel drive             27074\n",
       "rear drive                     4809\n",
       "all-wheel drive                4176\n",
       "part-time four-wheel drive     2596\n",
       "Name: drive_unit, dtype: int64"
      ]
     },
     "execution_count": 8,
     "metadata": {},
     "output_type": "execute_result"
    }
   ],
   "source": [
    "# FOR drive_unit COLUMN\n",
    "\n",
    "cars['drive_unit'].value_counts()"
   ]
  },
  {
   "cell_type": "markdown",
   "metadata": {},
   "source": [
    "### Here drive_unit column has \"front-wheel\" label as most so we can use it to fill NaN values"
   ]
  },
  {
   "cell_type": "code",
   "execution_count": 9,
   "metadata": {
    "scrolled": true
   },
   "outputs": [],
   "source": [
    "cars['drive_unit'].fillna('front-wheel drive',inplace=True)"
   ]
  },
  {
   "cell_type": "code",
   "execution_count": 10,
   "metadata": {
    "scrolled": true
   },
   "outputs": [
    {
     "data": {
      "text/plain": [
       "36245"
      ]
     },
     "execution_count": 10,
     "metadata": {},
     "output_type": "execute_result"
    }
   ],
   "source": [
    "# FOR segment COLUMN\n",
    "\n",
    "cars['segment'].value_counts().sum()"
   ]
  },
  {
   "cell_type": "markdown",
   "metadata": {},
   "source": [
    "### We will here fill Null values with most occuring values that are D, C, J, M, E and B"
   ]
  },
  {
   "cell_type": "code",
   "execution_count": 11,
   "metadata": {
    "scrolled": true
   },
   "outputs": [
    {
     "data": {
      "text/html": [
       "<div>\n",
       "<style scoped>\n",
       "    .dataframe tbody tr th:only-of-type {\n",
       "        vertical-align: middle;\n",
       "    }\n",
       "\n",
       "    .dataframe tbody tr th {\n",
       "        vertical-align: top;\n",
       "    }\n",
       "\n",
       "    .dataframe thead th {\n",
       "        text-align: right;\n",
       "    }\n",
       "</style>\n",
       "<table border=\"1\" class=\"dataframe\">\n",
       "  <thead>\n",
       "    <tr style=\"text-align: right;\">\n",
       "      <th></th>\n",
       "      <th>make</th>\n",
       "      <th>model</th>\n",
       "      <th>year</th>\n",
       "      <th>condition</th>\n",
       "      <th>mileage(kilometers)</th>\n",
       "      <th>fuel_type</th>\n",
       "      <th>volume(cm3)</th>\n",
       "      <th>color</th>\n",
       "      <th>transmission</th>\n",
       "      <th>drive_unit</th>\n",
       "      <th>segment</th>\n",
       "      <th>price</th>\n",
       "    </tr>\n",
       "  </thead>\n",
       "  <tbody>\n",
       "    <tr>\n",
       "      <th>0</th>\n",
       "      <td>honda</td>\n",
       "      <td>accord</td>\n",
       "      <td>1993</td>\n",
       "      <td>with mileage</td>\n",
       "      <td>960015.0</td>\n",
       "      <td>petrol</td>\n",
       "      <td>2000.0</td>\n",
       "      <td>black</td>\n",
       "      <td>mechanics</td>\n",
       "      <td>front-wheel drive</td>\n",
       "      <td>D</td>\n",
       "      <td>565</td>\n",
       "    </tr>\n",
       "    <tr>\n",
       "      <th>1</th>\n",
       "      <td>ford</td>\n",
       "      <td>fusion</td>\n",
       "      <td>2008</td>\n",
       "      <td>with mileage</td>\n",
       "      <td>172000.0</td>\n",
       "      <td>diesel</td>\n",
       "      <td>1400.0</td>\n",
       "      <td>silver</td>\n",
       "      <td>mechanics</td>\n",
       "      <td>front-wheel drive</td>\n",
       "      <td>M</td>\n",
       "      <td>5550</td>\n",
       "    </tr>\n",
       "    <tr>\n",
       "      <th>2</th>\n",
       "      <td>nissan</td>\n",
       "      <td>teana</td>\n",
       "      <td>2008</td>\n",
       "      <td>with mileage</td>\n",
       "      <td>223000.0</td>\n",
       "      <td>petrol</td>\n",
       "      <td>2500.0</td>\n",
       "      <td>purple</td>\n",
       "      <td>auto</td>\n",
       "      <td>front-wheel drive</td>\n",
       "      <td>D</td>\n",
       "      <td>8300</td>\n",
       "    </tr>\n",
       "    <tr>\n",
       "      <th>3</th>\n",
       "      <td>volkswagen</td>\n",
       "      <td>fox</td>\n",
       "      <td>2005</td>\n",
       "      <td>with mileage</td>\n",
       "      <td>140000.0</td>\n",
       "      <td>petrol</td>\n",
       "      <td>1200.0</td>\n",
       "      <td>blue</td>\n",
       "      <td>mechanics</td>\n",
       "      <td>front-wheel drive</td>\n",
       "      <td>A</td>\n",
       "      <td>3300</td>\n",
       "    </tr>\n",
       "    <tr>\n",
       "      <th>4</th>\n",
       "      <td>nissan</td>\n",
       "      <td>primera</td>\n",
       "      <td>2002</td>\n",
       "      <td>with damage</td>\n",
       "      <td>413000.0</td>\n",
       "      <td>diesel</td>\n",
       "      <td>2200.0</td>\n",
       "      <td>burgundy</td>\n",
       "      <td>mechanics</td>\n",
       "      <td>front-wheel drive</td>\n",
       "      <td>D</td>\n",
       "      <td>2450</td>\n",
       "    </tr>\n",
       "    <tr>\n",
       "      <th>...</th>\n",
       "      <td>...</td>\n",
       "      <td>...</td>\n",
       "      <td>...</td>\n",
       "      <td>...</td>\n",
       "      <td>...</td>\n",
       "      <td>...</td>\n",
       "      <td>...</td>\n",
       "      <td>...</td>\n",
       "      <td>...</td>\n",
       "      <td>...</td>\n",
       "      <td>...</td>\n",
       "      <td>...</td>\n",
       "    </tr>\n",
       "    <tr>\n",
       "      <th>39995</th>\n",
       "      <td>jeep</td>\n",
       "      <td>grand-cherokee</td>\n",
       "      <td>2008</td>\n",
       "      <td>with mileage</td>\n",
       "      <td>214000.0</td>\n",
       "      <td>petrol</td>\n",
       "      <td>3700.0</td>\n",
       "      <td>silver</td>\n",
       "      <td>auto</td>\n",
       "      <td>all-wheel drive</td>\n",
       "      <td>J</td>\n",
       "      <td>12500</td>\n",
       "    </tr>\n",
       "    <tr>\n",
       "      <th>39996</th>\n",
       "      <td>peugeot</td>\n",
       "      <td>607</td>\n",
       "      <td>2001</td>\n",
       "      <td>with mileage</td>\n",
       "      <td>295000.0</td>\n",
       "      <td>petrol</td>\n",
       "      <td>2200.0</td>\n",
       "      <td>blue</td>\n",
       "      <td>mechanics</td>\n",
       "      <td>front-wheel drive</td>\n",
       "      <td>E</td>\n",
       "      <td>4754</td>\n",
       "    </tr>\n",
       "    <tr>\n",
       "      <th>39997</th>\n",
       "      <td>mercedes-benz</td>\n",
       "      <td>c-klass</td>\n",
       "      <td>1999</td>\n",
       "      <td>with mileage</td>\n",
       "      <td>0.0</td>\n",
       "      <td>diesel</td>\n",
       "      <td>2200.0</td>\n",
       "      <td>other</td>\n",
       "      <td>mechanics</td>\n",
       "      <td>rear drive</td>\n",
       "      <td>D</td>\n",
       "      <td>4000</td>\n",
       "    </tr>\n",
       "    <tr>\n",
       "      <th>39998</th>\n",
       "      <td>proton</td>\n",
       "      <td>persona</td>\n",
       "      <td>1996</td>\n",
       "      <td>with mileage</td>\n",
       "      <td>250000.0</td>\n",
       "      <td>petrol</td>\n",
       "      <td>1300.0</td>\n",
       "      <td>other</td>\n",
       "      <td>mechanics</td>\n",
       "      <td>front-wheel drive</td>\n",
       "      <td>A</td>\n",
       "      <td>1200</td>\n",
       "    </tr>\n",
       "    <tr>\n",
       "      <th>39999</th>\n",
       "      <td>mercedes-benz</td>\n",
       "      <td>190-w201</td>\n",
       "      <td>1986</td>\n",
       "      <td>with mileage</td>\n",
       "      <td>272344.0</td>\n",
       "      <td>diesel</td>\n",
       "      <td>1997.0</td>\n",
       "      <td>silver</td>\n",
       "      <td>mechanics</td>\n",
       "      <td>rear drive</td>\n",
       "      <td>D</td>\n",
       "      <td>744</td>\n",
       "    </tr>\n",
       "  </tbody>\n",
       "</table>\n",
       "<p>40000 rows × 12 columns</p>\n",
       "</div>"
      ],
      "text/plain": [
       "                make           model  year     condition  mileage(kilometers)  \\\n",
       "0              honda          accord  1993  with mileage             960015.0   \n",
       "1               ford          fusion  2008  with mileage             172000.0   \n",
       "2             nissan           teana  2008  with mileage             223000.0   \n",
       "3         volkswagen             fox  2005  with mileage             140000.0   \n",
       "4             nissan         primera  2002   with damage             413000.0   \n",
       "...              ...             ...   ...           ...                  ...   \n",
       "39995           jeep  grand-cherokee  2008  with mileage             214000.0   \n",
       "39996        peugeot             607  2001  with mileage             295000.0   \n",
       "39997  mercedes-benz         c-klass  1999  with mileage                  0.0   \n",
       "39998         proton         persona  1996  with mileage             250000.0   \n",
       "39999  mercedes-benz        190-w201  1986  with mileage             272344.0   \n",
       "\n",
       "      fuel_type  volume(cm3)     color transmission         drive_unit  \\\n",
       "0        petrol       2000.0     black    mechanics  front-wheel drive   \n",
       "1        diesel       1400.0    silver    mechanics  front-wheel drive   \n",
       "2        petrol       2500.0    purple         auto  front-wheel drive   \n",
       "3        petrol       1200.0      blue    mechanics  front-wheel drive   \n",
       "4        diesel       2200.0  burgundy    mechanics  front-wheel drive   \n",
       "...         ...          ...       ...          ...                ...   \n",
       "39995    petrol       3700.0    silver         auto    all-wheel drive   \n",
       "39996    petrol       2200.0      blue    mechanics  front-wheel drive   \n",
       "39997    diesel       2200.0     other    mechanics         rear drive   \n",
       "39998    petrol       1300.0     other    mechanics  front-wheel drive   \n",
       "39999    diesel       1997.0    silver    mechanics         rear drive   \n",
       "\n",
       "      segment  price  \n",
       "0           D    565  \n",
       "1           M   5550  \n",
       "2           D   8300  \n",
       "3           A   3300  \n",
       "4           D   2450  \n",
       "...       ...    ...  \n",
       "39995       J  12500  \n",
       "39996       E   4754  \n",
       "39997       D   4000  \n",
       "39998       A   1200  \n",
       "39999       D    744  \n",
       "\n",
       "[40000 rows x 12 columns]"
      ]
     },
     "execution_count": 11,
     "metadata": {},
     "output_type": "execute_result"
    }
   ],
   "source": [
    "cars['segment'].fillna('A', inplace =True)\n",
    "\n",
    "cars.drop(cars[(cars['segment'] != 'D') & (cars['segment'] != 'A') & (cars['segment'] != 'C') & (cars['segment'] != 'J') & (cars['segment'] != 'M') & (cars['segment'] != 'E') & (cars['segment'] != 'B') & (cars['segment'] != 'F') & (cars['segment'] != 'S')].index, inplace=True)\n",
    "\n",
    "cars"
   ]
  },
  {
   "cell_type": "code",
   "execution_count": 12,
   "metadata": {
    "scrolled": true
   },
   "outputs": [],
   "source": [
    "# FOR volume Column\n",
    "\n",
    "VolMean = cars['volume(cm3)'].mean()"
   ]
  },
  {
   "cell_type": "markdown",
   "metadata": {},
   "source": [
    "### Here we will use mean of volume to fill null values"
   ]
  },
  {
   "cell_type": "code",
   "execution_count": 13,
   "metadata": {
    "scrolled": true
   },
   "outputs": [],
   "source": [
    "cars['volume(cm3)'].fillna(VolMean,inplace=True)"
   ]
  },
  {
   "cell_type": "code",
   "execution_count": 14,
   "metadata": {
    "scrolled": true
   },
   "outputs": [
    {
     "data": {
      "text/plain": [
       "make                   0\n",
       "model                  0\n",
       "year                   0\n",
       "condition              0\n",
       "mileage(kilometers)    0\n",
       "fuel_type              0\n",
       "volume(cm3)            0\n",
       "color                  0\n",
       "transmission           0\n",
       "drive_unit             0\n",
       "segment                0\n",
       "price                  0\n",
       "dtype: int64"
      ]
     },
     "execution_count": 14,
     "metadata": {},
     "output_type": "execute_result"
    }
   ],
   "source": [
    "pd.isnull(cars).sum()"
   ]
  },
  {
   "cell_type": "markdown",
   "metadata": {},
   "source": [
    "### Now we have no Null Values in our Dataset"
   ]
  },
  {
   "cell_type": "markdown",
   "metadata": {},
   "source": [
    "## Now we will use Label Encoding to change strings into numbers for further numerical analysis"
   ]
  },
  {
   "cell_type": "code",
   "execution_count": 15,
   "metadata": {
    "scrolled": true
   },
   "outputs": [],
   "source": [
    "# IMPORTING LABEL ENCODER FROM SKLEARN\n",
    "\n",
    "from sklearn.preprocessing import LabelEncoder\n",
    "encoder = LabelEncoder()"
   ]
  },
  {
   "cell_type": "code",
   "execution_count": 16,
   "metadata": {
    "scrolled": false
   },
   "outputs": [],
   "source": [
    "cars.dropna(how='any',axis=0,inplace=True)"
   ]
  },
  {
   "cell_type": "code",
   "execution_count": 17,
   "metadata": {
    "scrolled": false
   },
   "outputs": [],
   "source": [
    "cars['make'] = encoder.fit_transform(cars['make'])\n",
    "cars['model'] = encoder.fit_transform(cars['model'])\n",
    "cars['condition'] = encoder.fit_transform(cars['condition'])\n",
    "cars['color'] = encoder.fit_transform(cars['color'])\n",
    "cars['fuel_type'] = encoder.fit_transform(cars['fuel_type'])\n",
    "cars['transmission'] = encoder.fit_transform(cars['transmission'])\n",
    "cars['drive_unit'] = encoder.fit_transform(cars['drive_unit'])\n",
    "cars['segment'] = encoder.fit_transform(cars['segment'])\n",
    "\n",
    "\n",
    "cars['mileage(kilometers)'] = cars['mileage(kilometers)']/max(cars['mileage(kilometers)'])\n",
    "cars['volume(cm3)'] = cars['mileage(kilometers)']/max(cars['volume(cm3)'])"
   ]
  },
  {
   "cell_type": "code",
   "execution_count": 18,
   "metadata": {
    "scrolled": false
   },
   "outputs": [
    {
     "data": {
      "text/html": [
       "<style  type=\"text/css\" >\n",
       "#T_80d83762_284b_11eb_be08_30d16baedeb7row0_col0,#T_80d83762_284b_11eb_be08_30d16baedeb7row1_col1,#T_80d83762_284b_11eb_be08_30d16baedeb7row2_col2,#T_80d83762_284b_11eb_be08_30d16baedeb7row3_col3,#T_80d83762_284b_11eb_be08_30d16baedeb7row4_col4,#T_80d83762_284b_11eb_be08_30d16baedeb7row4_col6,#T_80d83762_284b_11eb_be08_30d16baedeb7row5_col5,#T_80d83762_284b_11eb_be08_30d16baedeb7row6_col4,#T_80d83762_284b_11eb_be08_30d16baedeb7row6_col6,#T_80d83762_284b_11eb_be08_30d16baedeb7row7_col7,#T_80d83762_284b_11eb_be08_30d16baedeb7row8_col8,#T_80d83762_284b_11eb_be08_30d16baedeb7row9_col9,#T_80d83762_284b_11eb_be08_30d16baedeb7row10_col10,#T_80d83762_284b_11eb_be08_30d16baedeb7row11_col11{\n",
       "            background-color:  #023858;\n",
       "            color:  #f1f1f1;\n",
       "        }#T_80d83762_284b_11eb_be08_30d16baedeb7row0_col1{\n",
       "            background-color:  #9fbad9;\n",
       "            color:  #000000;\n",
       "        }#T_80d83762_284b_11eb_be08_30d16baedeb7row0_col2,#T_80d83762_284b_11eb_be08_30d16baedeb7row10_col1{\n",
       "            background-color:  #bbc7e0;\n",
       "            color:  #000000;\n",
       "        }#T_80d83762_284b_11eb_be08_30d16baedeb7row0_col3{\n",
       "            background-color:  #f5eff6;\n",
       "            color:  #000000;\n",
       "        }#T_80d83762_284b_11eb_be08_30d16baedeb7row0_col4,#T_80d83762_284b_11eb_be08_30d16baedeb7row0_col6,#T_80d83762_284b_11eb_be08_30d16baedeb7row2_col3,#T_80d83762_284b_11eb_be08_30d16baedeb7row7_col5,#T_80d83762_284b_11eb_be08_30d16baedeb7row8_col7{\n",
       "            background-color:  #e0deed;\n",
       "            color:  #000000;\n",
       "        }#T_80d83762_284b_11eb_be08_30d16baedeb7row0_col5,#T_80d83762_284b_11eb_be08_30d16baedeb7row2_col5,#T_80d83762_284b_11eb_be08_30d16baedeb7row3_col0{\n",
       "            background-color:  #ede7f2;\n",
       "            color:  #000000;\n",
       "        }#T_80d83762_284b_11eb_be08_30d16baedeb7row0_col7{\n",
       "            background-color:  #eae6f1;\n",
       "            color:  #000000;\n",
       "        }#T_80d83762_284b_11eb_be08_30d16baedeb7row0_col8,#T_80d83762_284b_11eb_be08_30d16baedeb7row1_col11{\n",
       "            background-color:  #9ab8d8;\n",
       "            color:  #000000;\n",
       "        }#T_80d83762_284b_11eb_be08_30d16baedeb7row0_col9,#T_80d83762_284b_11eb_be08_30d16baedeb7row11_col9{\n",
       "            background-color:  #f6eff7;\n",
       "            color:  #000000;\n",
       "        }#T_80d83762_284b_11eb_be08_30d16baedeb7row0_col10,#T_80d83762_284b_11eb_be08_30d16baedeb7row3_col1{\n",
       "            background-color:  #e2dfee;\n",
       "            color:  #000000;\n",
       "        }#T_80d83762_284b_11eb_be08_30d16baedeb7row0_col11{\n",
       "            background-color:  #c2cbe2;\n",
       "            color:  #000000;\n",
       "        }#T_80d83762_284b_11eb_be08_30d16baedeb7row1_col0{\n",
       "            background-color:  #abbfdc;\n",
       "            color:  #000000;\n",
       "        }#T_80d83762_284b_11eb_be08_30d16baedeb7row1_col2{\n",
       "            background-color:  #9cb9d9;\n",
       "            color:  #000000;\n",
       "        }#T_80d83762_284b_11eb_be08_30d16baedeb7row1_col3{\n",
       "            background-color:  #f5eef6;\n",
       "            color:  #000000;\n",
       "        }#T_80d83762_284b_11eb_be08_30d16baedeb7row1_col4,#T_80d83762_284b_11eb_be08_30d16baedeb7row1_col6{\n",
       "            background-color:  #e1dfed;\n",
       "            color:  #000000;\n",
       "        }#T_80d83762_284b_11eb_be08_30d16baedeb7row1_col5,#T_80d83762_284b_11eb_be08_30d16baedeb7row4_col0,#T_80d83762_284b_11eb_be08_30d16baedeb7row4_col5,#T_80d83762_284b_11eb_be08_30d16baedeb7row6_col0,#T_80d83762_284b_11eb_be08_30d16baedeb7row6_col5,#T_80d83762_284b_11eb_be08_30d16baedeb7row8_col1{\n",
       "            background-color:  #f0eaf4;\n",
       "            color:  #000000;\n",
       "        }#T_80d83762_284b_11eb_be08_30d16baedeb7row1_col7,#T_80d83762_284b_11eb_be08_30d16baedeb7row3_col7,#T_80d83762_284b_11eb_be08_30d16baedeb7row5_col7{\n",
       "            background-color:  #f2ecf5;\n",
       "            color:  #000000;\n",
       "        }#T_80d83762_284b_11eb_be08_30d16baedeb7row1_col8,#T_80d83762_284b_11eb_be08_30d16baedeb7row3_col8{\n",
       "            background-color:  #cacee5;\n",
       "            color:  #000000;\n",
       "        }#T_80d83762_284b_11eb_be08_30d16baedeb7row1_col9,#T_80d83762_284b_11eb_be08_30d16baedeb7row4_col3,#T_80d83762_284b_11eb_be08_30d16baedeb7row6_col3{\n",
       "            background-color:  #fdf5fa;\n",
       "            color:  #000000;\n",
       "        }#T_80d83762_284b_11eb_be08_30d16baedeb7row1_col10{\n",
       "            background-color:  #b5c4df;\n",
       "            color:  #000000;\n",
       "        }#T_80d83762_284b_11eb_be08_30d16baedeb7row2_col0,#T_80d83762_284b_11eb_be08_30d16baedeb7row7_col9,#T_80d83762_284b_11eb_be08_30d16baedeb7row10_col9{\n",
       "            background-color:  #e6e2ef;\n",
       "            color:  #000000;\n",
       "        }#T_80d83762_284b_11eb_be08_30d16baedeb7row2_col1{\n",
       "            background-color:  #c1cae2;\n",
       "            color:  #000000;\n",
       "        }#T_80d83762_284b_11eb_be08_30d16baedeb7row2_col4,#T_80d83762_284b_11eb_be08_30d16baedeb7row2_col6,#T_80d83762_284b_11eb_be08_30d16baedeb7row2_col9,#T_80d83762_284b_11eb_be08_30d16baedeb7row5_col10,#T_80d83762_284b_11eb_be08_30d16baedeb7row8_col2,#T_80d83762_284b_11eb_be08_30d16baedeb7row8_col3,#T_80d83762_284b_11eb_be08_30d16baedeb7row8_col11,#T_80d83762_284b_11eb_be08_30d16baedeb7row9_col0,#T_80d83762_284b_11eb_be08_30d16baedeb7row9_col1,#T_80d83762_284b_11eb_be08_30d16baedeb7row10_col5,#T_80d83762_284b_11eb_be08_30d16baedeb7row11_col7,#T_80d83762_284b_11eb_be08_30d16baedeb7row11_col8{\n",
       "            background-color:  #fff7fb;\n",
       "            color:  #000000;\n",
       "        }#T_80d83762_284b_11eb_be08_30d16baedeb7row2_col7,#T_80d83762_284b_11eb_be08_30d16baedeb7row8_col10{\n",
       "            background-color:  #fbf3f9;\n",
       "            color:  #000000;\n",
       "        }#T_80d83762_284b_11eb_be08_30d16baedeb7row2_col8,#T_80d83762_284b_11eb_be08_30d16baedeb7row10_col7{\n",
       "            background-color:  #faf2f8;\n",
       "            color:  #000000;\n",
       "        }#T_80d83762_284b_11eb_be08_30d16baedeb7row2_col10{\n",
       "            background-color:  #cccfe5;\n",
       "            color:  #000000;\n",
       "        }#T_80d83762_284b_11eb_be08_30d16baedeb7row2_col11{\n",
       "            background-color:  #0d75b3;\n",
       "            color:  #f1f1f1;\n",
       "        }#T_80d83762_284b_11eb_be08_30d16baedeb7row3_col2,#T_80d83762_284b_11eb_be08_30d16baedeb7row7_col8{\n",
       "            background-color:  #a5bddb;\n",
       "            color:  #000000;\n",
       "        }#T_80d83762_284b_11eb_be08_30d16baedeb7row3_col4,#T_80d83762_284b_11eb_be08_30d16baedeb7row3_col6,#T_80d83762_284b_11eb_be08_30d16baedeb7row3_col9,#T_80d83762_284b_11eb_be08_30d16baedeb7row5_col9,#T_80d83762_284b_11eb_be08_30d16baedeb7row7_col1{\n",
       "            background-color:  #e5e1ef;\n",
       "            color:  #000000;\n",
       "        }#T_80d83762_284b_11eb_be08_30d16baedeb7row3_col5{\n",
       "            background-color:  #e7e3f0;\n",
       "            color:  #000000;\n",
       "        }#T_80d83762_284b_11eb_be08_30d16baedeb7row3_col10{\n",
       "            background-color:  #d6d6e9;\n",
       "            color:  #000000;\n",
       "        }#T_80d83762_284b_11eb_be08_30d16baedeb7row3_col11,#T_80d83762_284b_11eb_be08_30d16baedeb7row11_col10{\n",
       "            background-color:  #a7bddb;\n",
       "            color:  #000000;\n",
       "        }#T_80d83762_284b_11eb_be08_30d16baedeb7row4_col1,#T_80d83762_284b_11eb_be08_30d16baedeb7row6_col1,#T_80d83762_284b_11eb_be08_30d16baedeb7row11_col3{\n",
       "            background-color:  #e8e4f0;\n",
       "            color:  #000000;\n",
       "        }#T_80d83762_284b_11eb_be08_30d16baedeb7row4_col2,#T_80d83762_284b_11eb_be08_30d16baedeb7row5_col4,#T_80d83762_284b_11eb_be08_30d16baedeb7row5_col6,#T_80d83762_284b_11eb_be08_30d16baedeb7row6_col2{\n",
       "            background-color:  #eee8f3;\n",
       "            color:  #000000;\n",
       "        }#T_80d83762_284b_11eb_be08_30d16baedeb7row4_col7,#T_80d83762_284b_11eb_be08_30d16baedeb7row6_col7,#T_80d83762_284b_11eb_be08_30d16baedeb7row10_col0,#T_80d83762_284b_11eb_be08_30d16baedeb7row10_col3{\n",
       "            background-color:  #efe9f3;\n",
       "            color:  #000000;\n",
       "        }#T_80d83762_284b_11eb_be08_30d16baedeb7row4_col8,#T_80d83762_284b_11eb_be08_30d16baedeb7row6_col8{\n",
       "            background-color:  #a4bcda;\n",
       "            color:  #000000;\n",
       "        }#T_80d83762_284b_11eb_be08_30d16baedeb7row4_col9,#T_80d83762_284b_11eb_be08_30d16baedeb7row6_col9,#T_80d83762_284b_11eb_be08_30d16baedeb7row10_col4,#T_80d83762_284b_11eb_be08_30d16baedeb7row10_col6{\n",
       "            background-color:  #d9d8ea;\n",
       "            color:  #000000;\n",
       "        }#T_80d83762_284b_11eb_be08_30d16baedeb7row4_col10,#T_80d83762_284b_11eb_be08_30d16baedeb7row6_col10{\n",
       "            background-color:  #dcdaeb;\n",
       "            color:  #000000;\n",
       "        }#T_80d83762_284b_11eb_be08_30d16baedeb7row4_col11,#T_80d83762_284b_11eb_be08_30d16baedeb7row6_col11{\n",
       "            background-color:  #dddbec;\n",
       "            color:  #000000;\n",
       "        }#T_80d83762_284b_11eb_be08_30d16baedeb7row5_col0,#T_80d83762_284b_11eb_be08_30d16baedeb7row11_col4,#T_80d83762_284b_11eb_be08_30d16baedeb7row11_col6{\n",
       "            background-color:  #f7f0f7;\n",
       "            color:  #000000;\n",
       "        }#T_80d83762_284b_11eb_be08_30d16baedeb7row5_col1{\n",
       "            background-color:  #f4edf6;\n",
       "            color:  #000000;\n",
       "        }#T_80d83762_284b_11eb_be08_30d16baedeb7row5_col2,#T_80d83762_284b_11eb_be08_30d16baedeb7row7_col2,#T_80d83762_284b_11eb_be08_30d16baedeb7row8_col0{\n",
       "            background-color:  #d3d4e7;\n",
       "            color:  #000000;\n",
       "        }#T_80d83762_284b_11eb_be08_30d16baedeb7row5_col3{\n",
       "            background-color:  #fbf4f9;\n",
       "            color:  #000000;\n",
       "        }#T_80d83762_284b_11eb_be08_30d16baedeb7row5_col8,#T_80d83762_284b_11eb_be08_30d16baedeb7row5_col11{\n",
       "            background-color:  #d2d3e7;\n",
       "            color:  #000000;\n",
       "        }#T_80d83762_284b_11eb_be08_30d16baedeb7row7_col0,#T_80d83762_284b_11eb_be08_30d16baedeb7row9_col10{\n",
       "            background-color:  #e4e1ef;\n",
       "            color:  #000000;\n",
       "        }#T_80d83762_284b_11eb_be08_30d16baedeb7row7_col3,#T_80d83762_284b_11eb_be08_30d16baedeb7row9_col3{\n",
       "            background-color:  #f8f1f8;\n",
       "            color:  #000000;\n",
       "        }#T_80d83762_284b_11eb_be08_30d16baedeb7row7_col4,#T_80d83762_284b_11eb_be08_30d16baedeb7row7_col6{\n",
       "            background-color:  #dad9ea;\n",
       "            color:  #000000;\n",
       "        }#T_80d83762_284b_11eb_be08_30d16baedeb7row7_col10{\n",
       "            background-color:  #ebe6f2;\n",
       "            color:  #000000;\n",
       "        }#T_80d83762_284b_11eb_be08_30d16baedeb7row7_col11{\n",
       "            background-color:  #d2d2e7;\n",
       "            color:  #000000;\n",
       "        }#T_80d83762_284b_11eb_be08_30d16baedeb7row8_col4,#T_80d83762_284b_11eb_be08_30d16baedeb7row8_col6{\n",
       "            background-color:  #c8cde4;\n",
       "            color:  #000000;\n",
       "        }#T_80d83762_284b_11eb_be08_30d16baedeb7row8_col5,#T_80d83762_284b_11eb_be08_30d16baedeb7row11_col0{\n",
       "            background-color:  #f1ebf5;\n",
       "            color:  #000000;\n",
       "        }#T_80d83762_284b_11eb_be08_30d16baedeb7row8_col9{\n",
       "            background-color:  #e0dded;\n",
       "            color:  #000000;\n",
       "        }#T_80d83762_284b_11eb_be08_30d16baedeb7row9_col2{\n",
       "            background-color:  #e9e5f1;\n",
       "            color:  #000000;\n",
       "        }#T_80d83762_284b_11eb_be08_30d16baedeb7row9_col4,#T_80d83762_284b_11eb_be08_30d16baedeb7row9_col6{\n",
       "            background-color:  #d5d5e8;\n",
       "            color:  #000000;\n",
       "        }#T_80d83762_284b_11eb_be08_30d16baedeb7row9_col5{\n",
       "            background-color:  #e3e0ee;\n",
       "            color:  #000000;\n",
       "        }#T_80d83762_284b_11eb_be08_30d16baedeb7row9_col7{\n",
       "            background-color:  #f4eef6;\n",
       "            color:  #000000;\n",
       "        }#T_80d83762_284b_11eb_be08_30d16baedeb7row9_col8{\n",
       "            background-color:  #b8c6e0;\n",
       "            color:  #000000;\n",
       "        }#T_80d83762_284b_11eb_be08_30d16baedeb7row9_col11{\n",
       "            background-color:  #d7d6e9;\n",
       "            color:  #000000;\n",
       "        }#T_80d83762_284b_11eb_be08_30d16baedeb7row10_col2{\n",
       "            background-color:  #acc0dd;\n",
       "            color:  #000000;\n",
       "        }#T_80d83762_284b_11eb_be08_30d16baedeb7row10_col8{\n",
       "            background-color:  #dfddec;\n",
       "            color:  #000000;\n",
       "        }#T_80d83762_284b_11eb_be08_30d16baedeb7row10_col11{\n",
       "            background-color:  #7eadd1;\n",
       "            color:  #000000;\n",
       "        }#T_80d83762_284b_11eb_be08_30d16baedeb7row11_col1{\n",
       "            background-color:  #c9cee4;\n",
       "            color:  #000000;\n",
       "        }#T_80d83762_284b_11eb_be08_30d16baedeb7row11_col2{\n",
       "            background-color:  #1077b4;\n",
       "            color:  #f1f1f1;\n",
       "        }#T_80d83762_284b_11eb_be08_30d16baedeb7row11_col5{\n",
       "            background-color:  #f1ebf4;\n",
       "            color:  #000000;\n",
       "        }</style><table id=\"T_80d83762_284b_11eb_be08_30d16baedeb7\" ><thead>    <tr>        <th class=\"blank level0\" ></th>        <th class=\"col_heading level0 col0\" >make</th>        <th class=\"col_heading level0 col1\" >model</th>        <th class=\"col_heading level0 col2\" >year</th>        <th class=\"col_heading level0 col3\" >condition</th>        <th class=\"col_heading level0 col4\" >mileage(kilometers)</th>        <th class=\"col_heading level0 col5\" >fuel_type</th>        <th class=\"col_heading level0 col6\" >volume(cm3)</th>        <th class=\"col_heading level0 col7\" >color</th>        <th class=\"col_heading level0 col8\" >transmission</th>        <th class=\"col_heading level0 col9\" >drive_unit</th>        <th class=\"col_heading level0 col10\" >segment</th>        <th class=\"col_heading level0 col11\" >price</th>    </tr></thead><tbody>\n",
       "                <tr>\n",
       "                        <th id=\"T_80d83762_284b_11eb_be08_30d16baedeb7level0_row0\" class=\"row_heading level0 row0\" >make</th>\n",
       "                        <td id=\"T_80d83762_284b_11eb_be08_30d16baedeb7row0_col0\" class=\"data row0 col0\" >1.00</td>\n",
       "                        <td id=\"T_80d83762_284b_11eb_be08_30d16baedeb7row0_col1\" class=\"data row0 col1\" >0.28</td>\n",
       "                        <td id=\"T_80d83762_284b_11eb_be08_30d16baedeb7row0_col2\" class=\"data row0 col2\" >0.04</td>\n",
       "                        <td id=\"T_80d83762_284b_11eb_be08_30d16baedeb7row0_col3\" class=\"data row0 col3\" >0.01</td>\n",
       "                        <td id=\"T_80d83762_284b_11eb_be08_30d16baedeb7row0_col4\" class=\"data row0 col4\" >-0.01</td>\n",
       "                        <td id=\"T_80d83762_284b_11eb_be08_30d16baedeb7row0_col5\" class=\"data row0 col5\" >-0.07</td>\n",
       "                        <td id=\"T_80d83762_284b_11eb_be08_30d16baedeb7row0_col6\" class=\"data row0 col6\" >-0.01</td>\n",
       "                        <td id=\"T_80d83762_284b_11eb_be08_30d16baedeb7row0_col7\" class=\"data row0 col7\" >0.05</td>\n",
       "                        <td id=\"T_80d83762_284b_11eb_be08_30d16baedeb7row0_col8\" class=\"data row0 col8\" >0.13</td>\n",
       "                        <td id=\"T_80d83762_284b_11eb_be08_30d16baedeb7row0_col9\" class=\"data row0 col9\" >-0.13</td>\n",
       "                        <td id=\"T_80d83762_284b_11eb_be08_30d16baedeb7row0_col10\" class=\"data row0 col10\" >-0.01</td>\n",
       "                        <td id=\"T_80d83762_284b_11eb_be08_30d16baedeb7row0_col11\" class=\"data row0 col11\" >-0.03</td>\n",
       "            </tr>\n",
       "            <tr>\n",
       "                        <th id=\"T_80d83762_284b_11eb_be08_30d16baedeb7level0_row1\" class=\"row_heading level0 row1\" >model</th>\n",
       "                        <td id=\"T_80d83762_284b_11eb_be08_30d16baedeb7row1_col0\" class=\"data row1 col0\" >0.28</td>\n",
       "                        <td id=\"T_80d83762_284b_11eb_be08_30d16baedeb7row1_col1\" class=\"data row1 col1\" >1.00</td>\n",
       "                        <td id=\"T_80d83762_284b_11eb_be08_30d16baedeb7row1_col2\" class=\"data row1 col2\" >0.16</td>\n",
       "                        <td id=\"T_80d83762_284b_11eb_be08_30d16baedeb7row1_col3\" class=\"data row1 col3\" >0.01</td>\n",
       "                        <td id=\"T_80d83762_284b_11eb_be08_30d16baedeb7row1_col4\" class=\"data row1 col4\" >-0.02</td>\n",
       "                        <td id=\"T_80d83762_284b_11eb_be08_30d16baedeb7row1_col5\" class=\"data row1 col5\" >-0.10</td>\n",
       "                        <td id=\"T_80d83762_284b_11eb_be08_30d16baedeb7row1_col6\" class=\"data row1 col6\" >-0.02</td>\n",
       "                        <td id=\"T_80d83762_284b_11eb_be08_30d16baedeb7row1_col7\" class=\"data row1 col7\" >-0.00</td>\n",
       "                        <td id=\"T_80d83762_284b_11eb_be08_30d16baedeb7row1_col8\" class=\"data row1 col8\" >-0.06</td>\n",
       "                        <td id=\"T_80d83762_284b_11eb_be08_30d16baedeb7row1_col9\" class=\"data row1 col9\" >-0.19</td>\n",
       "                        <td id=\"T_80d83762_284b_11eb_be08_30d16baedeb7row1_col10\" class=\"data row1 col10\" >0.18</td>\n",
       "                        <td id=\"T_80d83762_284b_11eb_be08_30d16baedeb7row1_col11\" class=\"data row1 col11\" >0.14</td>\n",
       "            </tr>\n",
       "            <tr>\n",
       "                        <th id=\"T_80d83762_284b_11eb_be08_30d16baedeb7level0_row2\" class=\"row_heading level0 row2\" >year</th>\n",
       "                        <td id=\"T_80d83762_284b_11eb_be08_30d16baedeb7row2_col0\" class=\"data row2 col0\" >0.04</td>\n",
       "                        <td id=\"T_80d83762_284b_11eb_be08_30d16baedeb7row2_col1\" class=\"data row2 col1\" >0.16</td>\n",
       "                        <td id=\"T_80d83762_284b_11eb_be08_30d16baedeb7row2_col2\" class=\"data row2 col2\" >1.00</td>\n",
       "                        <td id=\"T_80d83762_284b_11eb_be08_30d16baedeb7row2_col3\" class=\"data row2 col3\" >0.13</td>\n",
       "                        <td id=\"T_80d83762_284b_11eb_be08_30d16baedeb7row2_col4\" class=\"data row2 col4\" >-0.24</td>\n",
       "                        <td id=\"T_80d83762_284b_11eb_be08_30d16baedeb7row2_col5\" class=\"data row2 col5\" >-0.07</td>\n",
       "                        <td id=\"T_80d83762_284b_11eb_be08_30d16baedeb7row2_col6\" class=\"data row2 col6\" >-0.24</td>\n",
       "                        <td id=\"T_80d83762_284b_11eb_be08_30d16baedeb7row2_col7\" class=\"data row2 col7\" >-0.06</td>\n",
       "                        <td id=\"T_80d83762_284b_11eb_be08_30d16baedeb7row2_col8\" class=\"data row2 col8\" >-0.40</td>\n",
       "                        <td id=\"T_80d83762_284b_11eb_be08_30d16baedeb7row2_col9\" class=\"data row2 col9\" >-0.20</td>\n",
       "                        <td id=\"T_80d83762_284b_11eb_be08_30d16baedeb7row2_col10\" class=\"data row2 col10\" >0.10</td>\n",
       "                        <td id=\"T_80d83762_284b_11eb_be08_30d16baedeb7row2_col11\" class=\"data row2 col11\" >0.61</td>\n",
       "            </tr>\n",
       "            <tr>\n",
       "                        <th id=\"T_80d83762_284b_11eb_be08_30d16baedeb7level0_row3\" class=\"row_heading level0 row3\" >condition</th>\n",
       "                        <td id=\"T_80d83762_284b_11eb_be08_30d16baedeb7row3_col0\" class=\"data row3 col0\" >0.01</td>\n",
       "                        <td id=\"T_80d83762_284b_11eb_be08_30d16baedeb7row3_col1\" class=\"data row3 col1\" >0.01</td>\n",
       "                        <td id=\"T_80d83762_284b_11eb_be08_30d16baedeb7row3_col2\" class=\"data row3 col2\" >0.13</td>\n",
       "                        <td id=\"T_80d83762_284b_11eb_be08_30d16baedeb7row3_col3\" class=\"data row3 col3\" >1.00</td>\n",
       "                        <td id=\"T_80d83762_284b_11eb_be08_30d16baedeb7row3_col4\" class=\"data row3 col4\" >-0.04</td>\n",
       "                        <td id=\"T_80d83762_284b_11eb_be08_30d16baedeb7row3_col5\" class=\"data row3 col5\" >-0.03</td>\n",
       "                        <td id=\"T_80d83762_284b_11eb_be08_30d16baedeb7row3_col6\" class=\"data row3 col6\" >-0.04</td>\n",
       "                        <td id=\"T_80d83762_284b_11eb_be08_30d16baedeb7row3_col7\" class=\"data row3 col7\" >-0.01</td>\n",
       "                        <td id=\"T_80d83762_284b_11eb_be08_30d16baedeb7row3_col8\" class=\"data row3 col8\" >-0.06</td>\n",
       "                        <td id=\"T_80d83762_284b_11eb_be08_30d16baedeb7row3_col9\" class=\"data row3 col9\" >-0.01</td>\n",
       "                        <td id=\"T_80d83762_284b_11eb_be08_30d16baedeb7row3_col10\" class=\"data row3 col10\" >0.06</td>\n",
       "                        <td id=\"T_80d83762_284b_11eb_be08_30d16baedeb7row3_col11\" class=\"data row3 col11\" >0.09</td>\n",
       "            </tr>\n",
       "            <tr>\n",
       "                        <th id=\"T_80d83762_284b_11eb_be08_30d16baedeb7level0_row4\" class=\"row_heading level0 row4\" >mileage(kilometers)</th>\n",
       "                        <td id=\"T_80d83762_284b_11eb_be08_30d16baedeb7row4_col0\" class=\"data row4 col0\" >-0.01</td>\n",
       "                        <td id=\"T_80d83762_284b_11eb_be08_30d16baedeb7row4_col1\" class=\"data row4 col1\" >-0.02</td>\n",
       "                        <td id=\"T_80d83762_284b_11eb_be08_30d16baedeb7row4_col2\" class=\"data row4 col2\" >-0.24</td>\n",
       "                        <td id=\"T_80d83762_284b_11eb_be08_30d16baedeb7row4_col3\" class=\"data row4 col3\" >-0.04</td>\n",
       "                        <td id=\"T_80d83762_284b_11eb_be08_30d16baedeb7row4_col4\" class=\"data row4 col4\" >1.00</td>\n",
       "                        <td id=\"T_80d83762_284b_11eb_be08_30d16baedeb7row4_col5\" class=\"data row4 col5\" >-0.09</td>\n",
       "                        <td id=\"T_80d83762_284b_11eb_be08_30d16baedeb7row4_col6\" class=\"data row4 col6\" >1.00</td>\n",
       "                        <td id=\"T_80d83762_284b_11eb_be08_30d16baedeb7row4_col7\" class=\"data row4 col7\" >0.02</td>\n",
       "                        <td id=\"T_80d83762_284b_11eb_be08_30d16baedeb7row4_col8\" class=\"data row4 col8\" >0.11</td>\n",
       "                        <td id=\"T_80d83762_284b_11eb_be08_30d16baedeb7row4_col9\" class=\"data row4 col9\" >0.05</td>\n",
       "                        <td id=\"T_80d83762_284b_11eb_be08_30d16baedeb7row4_col10\" class=\"data row4 col10\" >0.02</td>\n",
       "                        <td id=\"T_80d83762_284b_11eb_be08_30d16baedeb7row4_col11\" class=\"data row4 col11\" >-0.17</td>\n",
       "            </tr>\n",
       "            <tr>\n",
       "                        <th id=\"T_80d83762_284b_11eb_be08_30d16baedeb7level0_row5\" class=\"row_heading level0 row5\" >fuel_type</th>\n",
       "                        <td id=\"T_80d83762_284b_11eb_be08_30d16baedeb7row5_col0\" class=\"data row5 col0\" >-0.07</td>\n",
       "                        <td id=\"T_80d83762_284b_11eb_be08_30d16baedeb7row5_col1\" class=\"data row5 col1\" >-0.10</td>\n",
       "                        <td id=\"T_80d83762_284b_11eb_be08_30d16baedeb7row5_col2\" class=\"data row5 col2\" >-0.07</td>\n",
       "                        <td id=\"T_80d83762_284b_11eb_be08_30d16baedeb7row5_col3\" class=\"data row5 col3\" >-0.03</td>\n",
       "                        <td id=\"T_80d83762_284b_11eb_be08_30d16baedeb7row5_col4\" class=\"data row5 col4\" >-0.09</td>\n",
       "                        <td id=\"T_80d83762_284b_11eb_be08_30d16baedeb7row5_col5\" class=\"data row5 col5\" >1.00</td>\n",
       "                        <td id=\"T_80d83762_284b_11eb_be08_30d16baedeb7row5_col6\" class=\"data row5 col6\" >-0.09</td>\n",
       "                        <td id=\"T_80d83762_284b_11eb_be08_30d16baedeb7row5_col7\" class=\"data row5 col7\" >0.00</td>\n",
       "                        <td id=\"T_80d83762_284b_11eb_be08_30d16baedeb7row5_col8\" class=\"data row5 col8\" >-0.10</td>\n",
       "                        <td id=\"T_80d83762_284b_11eb_be08_30d16baedeb7row5_col9\" class=\"data row5 col9\" >-0.02</td>\n",
       "                        <td id=\"T_80d83762_284b_11eb_be08_30d16baedeb7row5_col10\" class=\"data row5 col10\" >-0.22</td>\n",
       "                        <td id=\"T_80d83762_284b_11eb_be08_30d16baedeb7row5_col11\" class=\"data row5 col11\" >-0.10</td>\n",
       "            </tr>\n",
       "            <tr>\n",
       "                        <th id=\"T_80d83762_284b_11eb_be08_30d16baedeb7level0_row6\" class=\"row_heading level0 row6\" >volume(cm3)</th>\n",
       "                        <td id=\"T_80d83762_284b_11eb_be08_30d16baedeb7row6_col0\" class=\"data row6 col0\" >-0.01</td>\n",
       "                        <td id=\"T_80d83762_284b_11eb_be08_30d16baedeb7row6_col1\" class=\"data row6 col1\" >-0.02</td>\n",
       "                        <td id=\"T_80d83762_284b_11eb_be08_30d16baedeb7row6_col2\" class=\"data row6 col2\" >-0.24</td>\n",
       "                        <td id=\"T_80d83762_284b_11eb_be08_30d16baedeb7row6_col3\" class=\"data row6 col3\" >-0.04</td>\n",
       "                        <td id=\"T_80d83762_284b_11eb_be08_30d16baedeb7row6_col4\" class=\"data row6 col4\" >1.00</td>\n",
       "                        <td id=\"T_80d83762_284b_11eb_be08_30d16baedeb7row6_col5\" class=\"data row6 col5\" >-0.09</td>\n",
       "                        <td id=\"T_80d83762_284b_11eb_be08_30d16baedeb7row6_col6\" class=\"data row6 col6\" >1.00</td>\n",
       "                        <td id=\"T_80d83762_284b_11eb_be08_30d16baedeb7row6_col7\" class=\"data row6 col7\" >0.02</td>\n",
       "                        <td id=\"T_80d83762_284b_11eb_be08_30d16baedeb7row6_col8\" class=\"data row6 col8\" >0.11</td>\n",
       "                        <td id=\"T_80d83762_284b_11eb_be08_30d16baedeb7row6_col9\" class=\"data row6 col9\" >0.05</td>\n",
       "                        <td id=\"T_80d83762_284b_11eb_be08_30d16baedeb7row6_col10\" class=\"data row6 col10\" >0.02</td>\n",
       "                        <td id=\"T_80d83762_284b_11eb_be08_30d16baedeb7row6_col11\" class=\"data row6 col11\" >-0.17</td>\n",
       "            </tr>\n",
       "            <tr>\n",
       "                        <th id=\"T_80d83762_284b_11eb_be08_30d16baedeb7level0_row7\" class=\"row_heading level0 row7\" >color</th>\n",
       "                        <td id=\"T_80d83762_284b_11eb_be08_30d16baedeb7row7_col0\" class=\"data row7 col0\" >0.05</td>\n",
       "                        <td id=\"T_80d83762_284b_11eb_be08_30d16baedeb7row7_col1\" class=\"data row7 col1\" >-0.00</td>\n",
       "                        <td id=\"T_80d83762_284b_11eb_be08_30d16baedeb7row7_col2\" class=\"data row7 col2\" >-0.06</td>\n",
       "                        <td id=\"T_80d83762_284b_11eb_be08_30d16baedeb7row7_col3\" class=\"data row7 col3\" >-0.01</td>\n",
       "                        <td id=\"T_80d83762_284b_11eb_be08_30d16baedeb7row7_col4\" class=\"data row7 col4\" >0.02</td>\n",
       "                        <td id=\"T_80d83762_284b_11eb_be08_30d16baedeb7row7_col5\" class=\"data row7 col5\" >0.00</td>\n",
       "                        <td id=\"T_80d83762_284b_11eb_be08_30d16baedeb7row7_col6\" class=\"data row7 col6\" >0.02</td>\n",
       "                        <td id=\"T_80d83762_284b_11eb_be08_30d16baedeb7row7_col7\" class=\"data row7 col7\" >1.00</td>\n",
       "                        <td id=\"T_80d83762_284b_11eb_be08_30d16baedeb7row7_col8\" class=\"data row7 col8\" >0.10</td>\n",
       "                        <td id=\"T_80d83762_284b_11eb_be08_30d16baedeb7row7_col9\" class=\"data row7 col9\" >-0.02</td>\n",
       "                        <td id=\"T_80d83762_284b_11eb_be08_30d16baedeb7row7_col10\" class=\"data row7 col10\" >-0.06</td>\n",
       "                        <td id=\"T_80d83762_284b_11eb_be08_30d16baedeb7row7_col11\" class=\"data row7 col11\" >-0.10</td>\n",
       "            </tr>\n",
       "            <tr>\n",
       "                        <th id=\"T_80d83762_284b_11eb_be08_30d16baedeb7level0_row8\" class=\"row_heading level0 row8\" >transmission</th>\n",
       "                        <td id=\"T_80d83762_284b_11eb_be08_30d16baedeb7row8_col0\" class=\"data row8 col0\" >0.13</td>\n",
       "                        <td id=\"T_80d83762_284b_11eb_be08_30d16baedeb7row8_col1\" class=\"data row8 col1\" >-0.06</td>\n",
       "                        <td id=\"T_80d83762_284b_11eb_be08_30d16baedeb7row8_col2\" class=\"data row8 col2\" >-0.40</td>\n",
       "                        <td id=\"T_80d83762_284b_11eb_be08_30d16baedeb7row8_col3\" class=\"data row8 col3\" >-0.06</td>\n",
       "                        <td id=\"T_80d83762_284b_11eb_be08_30d16baedeb7row8_col4\" class=\"data row8 col4\" >0.11</td>\n",
       "                        <td id=\"T_80d83762_284b_11eb_be08_30d16baedeb7row8_col5\" class=\"data row8 col5\" >-0.10</td>\n",
       "                        <td id=\"T_80d83762_284b_11eb_be08_30d16baedeb7row8_col6\" class=\"data row8 col6\" >0.11</td>\n",
       "                        <td id=\"T_80d83762_284b_11eb_be08_30d16baedeb7row8_col7\" class=\"data row8 col7\" >0.10</td>\n",
       "                        <td id=\"T_80d83762_284b_11eb_be08_30d16baedeb7row8_col8\" class=\"data row8 col8\" >1.00</td>\n",
       "                        <td id=\"T_80d83762_284b_11eb_be08_30d16baedeb7row8_col9\" class=\"data row8 col9\" >0.02</td>\n",
       "                        <td id=\"T_80d83762_284b_11eb_be08_30d16baedeb7row8_col10\" class=\"data row8 col10\" >-0.18</td>\n",
       "                        <td id=\"T_80d83762_284b_11eb_be08_30d16baedeb7row8_col11\" class=\"data row8 col11\" >-0.45</td>\n",
       "            </tr>\n",
       "            <tr>\n",
       "                        <th id=\"T_80d83762_284b_11eb_be08_30d16baedeb7level0_row9\" class=\"row_heading level0 row9\" >drive_unit</th>\n",
       "                        <td id=\"T_80d83762_284b_11eb_be08_30d16baedeb7row9_col0\" class=\"data row9 col0\" >-0.13</td>\n",
       "                        <td id=\"T_80d83762_284b_11eb_be08_30d16baedeb7row9_col1\" class=\"data row9 col1\" >-0.19</td>\n",
       "                        <td id=\"T_80d83762_284b_11eb_be08_30d16baedeb7row9_col2\" class=\"data row9 col2\" >-0.20</td>\n",
       "                        <td id=\"T_80d83762_284b_11eb_be08_30d16baedeb7row9_col3\" class=\"data row9 col3\" >-0.01</td>\n",
       "                        <td id=\"T_80d83762_284b_11eb_be08_30d16baedeb7row9_col4\" class=\"data row9 col4\" >0.05</td>\n",
       "                        <td id=\"T_80d83762_284b_11eb_be08_30d16baedeb7row9_col5\" class=\"data row9 col5\" >-0.02</td>\n",
       "                        <td id=\"T_80d83762_284b_11eb_be08_30d16baedeb7row9_col6\" class=\"data row9 col6\" >0.05</td>\n",
       "                        <td id=\"T_80d83762_284b_11eb_be08_30d16baedeb7row9_col7\" class=\"data row9 col7\" >-0.02</td>\n",
       "                        <td id=\"T_80d83762_284b_11eb_be08_30d16baedeb7row9_col8\" class=\"data row9 col8\" >0.02</td>\n",
       "                        <td id=\"T_80d83762_284b_11eb_be08_30d16baedeb7row9_col9\" class=\"data row9 col9\" >1.00</td>\n",
       "                        <td id=\"T_80d83762_284b_11eb_be08_30d16baedeb7row9_col10\" class=\"data row9 col10\" >-0.02</td>\n",
       "                        <td id=\"T_80d83762_284b_11eb_be08_30d16baedeb7row9_col11\" class=\"data row9 col11\" >-0.13</td>\n",
       "            </tr>\n",
       "            <tr>\n",
       "                        <th id=\"T_80d83762_284b_11eb_be08_30d16baedeb7level0_row10\" class=\"row_heading level0 row10\" >segment</th>\n",
       "                        <td id=\"T_80d83762_284b_11eb_be08_30d16baedeb7row10_col0\" class=\"data row10 col0\" >-0.01</td>\n",
       "                        <td id=\"T_80d83762_284b_11eb_be08_30d16baedeb7row10_col1\" class=\"data row10 col1\" >0.18</td>\n",
       "                        <td id=\"T_80d83762_284b_11eb_be08_30d16baedeb7row10_col2\" class=\"data row10 col2\" >0.10</td>\n",
       "                        <td id=\"T_80d83762_284b_11eb_be08_30d16baedeb7row10_col3\" class=\"data row10 col3\" >0.06</td>\n",
       "                        <td id=\"T_80d83762_284b_11eb_be08_30d16baedeb7row10_col4\" class=\"data row10 col4\" >0.02</td>\n",
       "                        <td id=\"T_80d83762_284b_11eb_be08_30d16baedeb7row10_col5\" class=\"data row10 col5\" >-0.22</td>\n",
       "                        <td id=\"T_80d83762_284b_11eb_be08_30d16baedeb7row10_col6\" class=\"data row10 col6\" >0.02</td>\n",
       "                        <td id=\"T_80d83762_284b_11eb_be08_30d16baedeb7row10_col7\" class=\"data row10 col7\" >-0.06</td>\n",
       "                        <td id=\"T_80d83762_284b_11eb_be08_30d16baedeb7row10_col8\" class=\"data row10 col8\" >-0.18</td>\n",
       "                        <td id=\"T_80d83762_284b_11eb_be08_30d16baedeb7row10_col9\" class=\"data row10 col9\" >-0.02</td>\n",
       "                        <td id=\"T_80d83762_284b_11eb_be08_30d16baedeb7row10_col10\" class=\"data row10 col10\" >1.00</td>\n",
       "                        <td id=\"T_80d83762_284b_11eb_be08_30d16baedeb7row10_col11\" class=\"data row10 col11\" >0.24</td>\n",
       "            </tr>\n",
       "            <tr>\n",
       "                        <th id=\"T_80d83762_284b_11eb_be08_30d16baedeb7level0_row11\" class=\"row_heading level0 row11\" >price</th>\n",
       "                        <td id=\"T_80d83762_284b_11eb_be08_30d16baedeb7row11_col0\" class=\"data row11 col0\" >-0.03</td>\n",
       "                        <td id=\"T_80d83762_284b_11eb_be08_30d16baedeb7row11_col1\" class=\"data row11 col1\" >0.14</td>\n",
       "                        <td id=\"T_80d83762_284b_11eb_be08_30d16baedeb7row11_col2\" class=\"data row11 col2\" >0.61</td>\n",
       "                        <td id=\"T_80d83762_284b_11eb_be08_30d16baedeb7row11_col3\" class=\"data row11 col3\" >0.09</td>\n",
       "                        <td id=\"T_80d83762_284b_11eb_be08_30d16baedeb7row11_col4\" class=\"data row11 col4\" >-0.17</td>\n",
       "                        <td id=\"T_80d83762_284b_11eb_be08_30d16baedeb7row11_col5\" class=\"data row11 col5\" >-0.10</td>\n",
       "                        <td id=\"T_80d83762_284b_11eb_be08_30d16baedeb7row11_col6\" class=\"data row11 col6\" >-0.17</td>\n",
       "                        <td id=\"T_80d83762_284b_11eb_be08_30d16baedeb7row11_col7\" class=\"data row11 col7\" >-0.10</td>\n",
       "                        <td id=\"T_80d83762_284b_11eb_be08_30d16baedeb7row11_col8\" class=\"data row11 col8\" >-0.45</td>\n",
       "                        <td id=\"T_80d83762_284b_11eb_be08_30d16baedeb7row11_col9\" class=\"data row11 col9\" >-0.13</td>\n",
       "                        <td id=\"T_80d83762_284b_11eb_be08_30d16baedeb7row11_col10\" class=\"data row11 col10\" >0.24</td>\n",
       "                        <td id=\"T_80d83762_284b_11eb_be08_30d16baedeb7row11_col11\" class=\"data row11 col11\" >1.00</td>\n",
       "            </tr>\n",
       "    </tbody></table>"
      ],
      "text/plain": [
       "<pandas.io.formats.style.Styler at 0x20bd8f21588>"
      ]
     },
     "execution_count": 18,
     "metadata": {},
     "output_type": "execute_result"
    }
   ],
   "source": [
    "cars.corr().style.background_gradient(cmap='PuBu').set_precision(2)"
   ]
  },
  {
   "cell_type": "markdown",
   "metadata": {},
   "source": [
    "### here correlation of different features is showed and dark colors show high correlation\n",
    "### Clearly price highly positive related to 'Year' and 'model' and highly negative related to 'transmission' , 'volume' and 'mileage'"
   ]
  },
  {
   "cell_type": "code",
   "execution_count": 19,
   "metadata": {
    "scrolled": false
   },
   "outputs": [
    {
     "data": {
      "text/plain": [
       "<seaborn.matrix.ClusterGrid at 0x20bd95d6908>"
      ]
     },
     "execution_count": 19,
     "metadata": {},
     "output_type": "execute_result"
    },
    {
     "data": {
      "image/png": "[encoded data removed]",
      "text/plain": [
       "<Figure size 720x720 with 4 Axes>"
      ]
     },
     "metadata": {},
     "output_type": "display_data"
    }
   ],
   "source": [
    "corrmat = cars.corr() \n",
    "  \n",
    "cg = sns.clustermap(corrmat, cmap =\"YlGnBu\", linewidths = 0.1); \n",
    "plt.setp(cg.ax_heatmap.yaxis.get_majorticklabels(), rotation = 0) \n",
    "  \n",
    "cg "
   ]
  },
  {
   "cell_type": "markdown",
   "metadata": {},
   "source": [
    "## A better visualization of our analysis !!"
   ]
  },
  {
   "cell_type": "markdown",
   "metadata": {},
   "source": [
    "## Let's see trend of price with different features"
   ]
  },
  {
   "cell_type": "code",
   "execution_count": 20,
   "metadata": {
    "scrolled": false
   },
   "outputs": [
    {
     "data": {
      "text/plain": [
       "<AxesSubplot:xlabel='year', ylabel='price'>"
      ]
     },
     "execution_count": 20,
     "metadata": {},
     "output_type": "execute_result"
    },
    {
     "data": {
      "image/png": "[encoded data removed]",
      "text/plain": [
       "<Figure size 432x288 with 1 Axes>"
      ]
     },
     "metadata": {},
     "output_type": "display_data"
    }
   ],
   "source": [
    "gp1 = cars[['year','price']]\n",
    "gp1.plot(x='year',y='price',kind='scatter')"
   ]
  },
  {
   "cell_type": "markdown",
   "metadata": {},
   "source": [
    "### This shows that price of a car has increased exponentially with year passed"
   ]
  },
  {
   "cell_type": "code",
   "execution_count": 21,
   "metadata": {
    "scrolled": false
   },
   "outputs": [
    {
     "data": {
      "text/plain": [
       "<AxesSubplot:xlabel='volume(cm3)', ylabel='price'>"
      ]
     },
     "execution_count": 21,
     "metadata": {},
     "output_type": "execute_result"
    },
    {
     "data": {
      "image/png": "[encoded data removed]",
      "text/plain": [
       "<Figure size 432x288 with 1 Axes>"
      ]
     },
     "metadata": {},
     "output_type": "display_data"
    }
   ],
   "source": [
    "gp2 = cars[['volume(cm3)','price']]\n",
    "gp2.plot(x='volume(cm3)',y='price',kind='scatter')"
   ]
  },
  {
   "cell_type": "markdown",
   "metadata": {},
   "source": [
    "### This shows that less volume cars tend to have much more price"
   ]
  },
  {
   "cell_type": "code",
   "execution_count": 22,
   "metadata": {
    "scrolled": false
   },
   "outputs": [
    {
     "data": {
      "text/plain": [
       "<AxesSubplot:xlabel='mileage(kilometers)', ylabel='price'>"
      ]
     },
     "execution_count": 22,
     "metadata": {},
     "output_type": "execute_result"
    },
    {
     "data": {
      "image/png": "[encoded data removed]",
      "text/plain": [
       "<Figure size 432x288 with 1 Axes>"
      ]
     },
     "metadata": {},
     "output_type": "display_data"
    }
   ],
   "source": [
    "gp1 = cars[['mileage(kilometers)','price']]\n",
    "gp1.plot(x='mileage(kilometers)',y='price',kind='scatter')"
   ]
  },
  {
   "cell_type": "markdown",
   "metadata": {},
   "source": [
    "### This clearly indicates that less mileage cars are more costly"
   ]
  },
  {
   "cell_type": "markdown",
   "metadata": {},
   "source": [
    "## Let's check out some stats ;-)"
   ]
  },
  {
   "cell_type": "code",
   "execution_count": 23,
   "metadata": {
    "scrolled": false
   },
   "outputs": [
    {
     "name": "stdout",
     "output_type": "stream",
     "text": [
      "Requirement already satisfied: bioinfokit in c:\\programdata\\anaconda3\\lib\\site-packages (1.0.3)\n",
      "Requirement already satisfied: scikit-learn in c:\\programdata\\anaconda3\\lib\\site-packages (from bioinfokit) (0.23.2)\n",
      "Requirement already satisfied: pandas in c:\\programdata\\anaconda3\\lib\\site-packages (from bioinfokit) (1.1.1)\n",
      "Requirement already satisfied: adjustText in c:\\programdata\\anaconda3\\lib\\site-packages (from bioinfokit) (0.7.3)\n",
      "Requirement already satisfied: matplotlib in c:\\programdata\\anaconda3\\lib\\site-packages (from bioinfokit) (3.3.1)\n",
      "Requirement already satisfied: matplotlib-venn in c:\\programdata\\anaconda3\\lib\\site-packages (from bioinfokit) (0.11.6)\n",
      "Requirement already satisfied: textwrap3 in c:\\programdata\\anaconda3\\lib\\site-packages (from bioinfokit) (0.9.2)\n",
      "Requirement already satisfied: scipy in c:\\programdata\\anaconda3\\lib\\site-packages (from bioinfokit) (1.5.2)\n",
      "Requirement already satisfied: numpy in c:\\users\\divyansh tiwari\\appdata\\roaming\\python\\python37\\site-packages (from bioinfokit) (1.18.5)\n",
      "Requirement already satisfied: tabulate in c:\\programdata\\anaconda3\\lib\\site-packages (from bioinfokit) (0.8.7)\n",
      "Requirement already satisfied: statsmodels in c:\\programdata\\anaconda3\\lib\\site-packages (from bioinfokit) (0.11.1)\n",
      "Requirement already satisfied: seaborn in c:\\programdata\\anaconda3\\lib\\site-packages (from bioinfokit) (0.10.1)\n",
      "Requirement already satisfied: threadpoolctl>=2.0.0 in c:\\programdata\\anaconda3\\lib\\site-packages (from scikit-learn->bioinfokit) (2.1.0)\n",
      "Requirement already satisfied: joblib>=0.11 in c:\\programdata\\anaconda3\\lib\\site-packages (from scikit-learn->bioinfokit) (0.16.0)\n",
      "Requirement already satisfied: pytz>=2017.2 in c:\\programdata\\anaconda3\\lib\\site-packages (from pandas->bioinfokit) (2020.1)\n",
      "Requirement already satisfied: python-dateutil>=2.7.3 in c:\\programdata\\anaconda3\\lib\\site-packages (from pandas->bioinfokit) (2.8.1)\n",
      "Requirement already satisfied: cycler>=0.10 in c:\\programdata\\anaconda3\\lib\\site-packages (from matplotlib->bioinfokit) (0.10.0)\n",
      "Requirement already satisfied: kiwisolver>=1.0.1 in c:\\programdata\\anaconda3\\lib\\site-packages (from matplotlib->bioinfokit) (1.2.0)\n",
      "Requirement already satisfied: certifi>=2020.06.20 in c:\\programdata\\anaconda3\\lib\\site-packages (from matplotlib->bioinfokit) (2020.6.20)\n",
      "Requirement already satisfied: pyparsing!=2.0.4,!=2.1.2,!=2.1.6,>=2.0.3 in c:\\programdata\\anaconda3\\lib\\site-packages (from matplotlib->bioinfokit) (2.4.7)\n",
      "Requirement already satisfied: pillow>=6.2.0 in c:\\programdata\\anaconda3\\lib\\site-packages (from matplotlib->bioinfokit) (7.2.0)\n",
      "Requirement already satisfied: patsy>=0.5 in c:\\programdata\\anaconda3\\lib\\site-packages (from statsmodels->bioinfokit) (0.5.1)\n",
      "Requirement already satisfied: six>=1.5 in c:\\programdata\\anaconda3\\lib\\site-packages (from python-dateutil>=2.7.3->pandas->bioinfokit) (1.15.0)\n"
     ]
    }
   ],
   "source": [
    "# student's t-test\n",
    "!pip install bioinfokit"
   ]
  },
  {
   "cell_type": "markdown",
   "metadata": {},
   "source": [
    "## Test reagrding year and price"
   ]
  },
  {
   "cell_type": "markdown",
   "metadata": {},
   "source": [
    "### student's T-test"
   ]
  },
  {
   "cell_type": "code",
   "execution_count": 24,
   "metadata": {
    "scrolled": false
   },
   "outputs": [
    {
     "name": "stdout",
     "output_type": "stream",
     "text": [
      "\n",
      "Paired t-test \n",
      "\n",
      "------------------  ---------\n",
      "Sample size         40000\n",
      "Difference Mean     -5426.9\n",
      "t                    -130.246\n",
      "Df                  39999\n",
      "P-value (one-tail)      0\n",
      "P-value (two-tail)      0\n",
      "Lower 95.0%         -5508.57\n",
      "Upper 95.0%         -5345.23\n",
      "------------------  ---------\n"
     ]
    }
   ],
   "source": [
    "from bioinfokit.analys import stat,ttsam\n",
    "\n",
    "res = stat()\n",
    "res.ttest( df=cars[['year','price']], xfac= 'year', res=['year','price'], test_type=3, mu=7430 )\n",
    "print(res.summary)"
   ]
  },
  {
   "cell_type": "markdown",
   "metadata": {},
   "source": [
    "### chi square test"
   ]
  },
  {
   "cell_type": "code",
   "execution_count": 25,
   "metadata": {
    "scrolled": false
   },
   "outputs": [
    {
     "name": "stdout",
     "output_type": "stream",
     "text": [
      "\n",
      "Chi-squared test for independence\n",
      "\n",
      "Test               Df    Chi-square    P-value\n",
      "--------------  -----  ------------  ---------\n",
      "Pearson         39999   5.64771e+07          0\n",
      "Log-likelihood  39999   5.24724e+07          0\n",
      "\n"
     ]
    }
   ],
   "source": [
    "res2 = stat()\n",
    "res2.chisq(df=cars[['year','price']])\n",
    "print(res2.summary)"
   ]
  },
  {
   "cell_type": "code",
   "execution_count": 26,
   "metadata": {
    "scrolled": false
   },
   "outputs": [
    {
     "name": "stderr",
     "output_type": "stream",
     "text": [
      "C:\\Users\\Divyansh Tiwari\\AppData\\Roaming\\Python\\Python37\\site-packages\\numpy\\linalg\\linalg.py:1965: RuntimeWarning: invalid value encountered in greater\n",
      "  large = s > cutoff\n"
     ]
    },
    {
     "data": {
      "text/plain": [
       "<AxesSubplot:xlabel='segment', ylabel='price'>"
      ]
     },
     "execution_count": 26,
     "metadata": {},
     "output_type": "execute_result"
    },
    {
     "data": {
      "image/png": "[encoded data removed]",
      "text/plain": [
       "<Figure size 432x288 with 1 Axes>"
      ]
     },
     "metadata": {},
     "output_type": "display_data"
    }
   ],
   "source": [
    "sns.regplot(data=cars,x='segment',y='price',color='orange',marker='+')"
   ]
  },
  {
   "cell_type": "markdown",
   "metadata": {},
   "source": [
    "## We see here that segment encoded as 6 having high price of car"
   ]
  },
  {
   "cell_type": "markdown",
   "metadata": {},
   "source": [
    "## This ends my internship challenge and i hope you like it. I will do much better if i get opportunity."
   ]
  },
  {
   "cell_type": "markdown",
   "metadata": {},
   "source": [
    "# Divyansh Tiwari\n",
    "# Mechademy Internship Challenge"
   ]
  },
  {
   "cell_type": "code",
   "execution_count": null,
   "metadata": {
    "scrolled": false
   },
   "outputs": [],
   "source": []
  }
 ],
 "metadata": {
  "kernelspec": {
   "display_name": "Python 3",
   "language": "python",
   "name": "python3"
  },
  "language_info": {
   "codemirror_mode": {
    "name": "ipython",
    "version": 3
   },
   "file_extension": ".py",
   "mimetype": "text/x-python",
   "name": "python",
   "nbconvert_exporter": "python",
   "pygments_lexer": "ipython3",
   "version": "3.7.6"
  }
 },
 "nbformat": 4,
 "nbformat_minor": 4
}
